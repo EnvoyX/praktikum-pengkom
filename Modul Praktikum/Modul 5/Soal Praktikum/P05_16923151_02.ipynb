{
 "cells": [
  {
   "cell_type": "code",
   "execution_count": 8,
   "metadata": {},
   "outputs": [],
   "source": [
    "#NIM/Nama : 16923151/Muhamad Hanif Hafizhan\n",
    "#Tanggal : 13 November 2023\n",
    "#Deskripsi : Problem 2"
   ]
  },
  {
   "cell_type": "code",
   "execution_count": 9,
   "metadata": {},
   "outputs": [],
   "source": [
    "import pandas as pd\n",
    "\n",
    "data = pd.read_csv(\"P05-02.csv\")"
   ]
  },
  {
   "cell_type": "markdown",
   "metadata": {},
   "source": [
    "# 1. Ada berapa rumah di Porto Alegre dengan jumlah tempat parkir lebih dari 3?"
   ]
  },
  {
   "cell_type": "code",
   "execution_count": 10,
   "metadata": {},
   "outputs": [
    {
     "name": "stdout",
     "output_type": "stream",
     "text": [
      "9\n"
     ]
    }
   ],
   "source": [
    "print(len(data.loc[(data[\"city\"] == \"Porto Alegre\") & (data[\"parking_spaces\"] > 3)]))"
   ]
  },
  {
   "cell_type": "markdown",
   "metadata": {},
   "source": [
    "# 2. Data runah dengan biaya asuransi kebakaran per tahun terkecil"
   ]
  },
  {
   "cell_type": "code",
   "execution_count": 11,
   "metadata": {},
   "outputs": [
    {
     "name": "stdout",
     "output_type": "stream",
     "text": [
      "          city  area  rooms  bathroom  parking_spaces  floor animal  \\\n",
      "6225  Campinas    50      1         1               0      8  acept   \n",
      "\n",
      "          furniture  homeowner_tax  rent_amount  property_tax  fire_insurance  \\\n",
      "6225  not furnished            300          550             0               3   \n",
      "\n",
      "      total  \n",
      "6225    853  \n"
     ]
    }
   ],
   "source": [
    "imin = data[\"fire_insurance\"].idxmin()\n",
    "print(data[imin:imin + 1])"
   ]
  },
  {
   "cell_type": "markdown",
   "metadata": {},
   "source": [
    "# 3. Ada berapa rumah yang mengizinkan membawa hewan peliharaan dan harga sewa pertahun di bawah rata-rata?"
   ]
  },
  {
   "cell_type": "code",
   "execution_count": 12,
   "metadata": {},
   "outputs": [
    {
     "name": "stdout",
     "output_type": "stream",
     "text": [
      "4617\n"
     ]
    }
   ],
   "source": [
    "# mencari harga sewa pertahun dibawah rata-rata?\n",
    "\n",
    "data[\"homeowner_tax\"].mean()\n",
    "\n",
    "print(len((data.loc[(data[\"animal\"] == \"acept\") & (data[\"homeowner_tax\"] < 1484)])))"
   ]
  },
  {
   "cell_type": "markdown",
   "metadata": {},
   "source": [
    "# 4. Banyak rumah yang tidak memiliki tempat parkir untuk masing-masing kota"
   ]
  },
  {
   "cell_type": "code",
   "execution_count": 13,
   "metadata": {},
   "outputs": [
    {
     "name": "stdout",
     "output_type": "stream",
     "text": [
      "city\n",
      "Sao Paulo         4273\n",
      "Rio de Janeiro    1394\n",
      "Porto Alegre       999\n",
      "Belo Horizonte     916\n",
      "Campinas           649\n",
      "Name: count, dtype: int64\n",
      "Sao Paulo\n",
      "800\n",
      "Rio de Janeiro\n",
      "619\n",
      "Porto Alegre\n",
      "381\n",
      "Belo Horizonte\n",
      "121\n",
      "Campinas\n",
      "124\n"
     ]
    }
   ],
   "source": [
    "#Melihat list kota\n",
    "print(data[\"city\"].value_counts())\n",
    "\n",
    "print(\"Sao Paulo\")\n",
    "print(len(data.loc[(data[\"city\"] == \"Sao Paulo\") & (data[\"parking_spaces\"] == 0)]))\n",
    "\n",
    "print(\"Rio de Janeiro\")\n",
    "print(len(data.loc[(data[\"city\"] == \"Rio de Janeiro\") & (data[\"parking_spaces\"] == 0)]))\n",
    "\n",
    "print(\"Porto Alegre\")\n",
    "print(len(data.loc[(data[\"city\"] == \"Porto Alegre\") & (data[\"parking_spaces\"] == 0)]))\n",
    "\n",
    "print(\"Belo Horizonte\")\n",
    "print(len(data.loc[(data[\"city\"] == \"Belo Horizonte\") & (data[\"parking_spaces\"] == 0)]))\n",
    "\n",
    "print(\"Campinas\")\n",
    "print(len(data.loc[(data[\"city\"] == \"Campinas\") & (data[\"parking_spaces\"] == 0)]))\n"
   ]
  },
  {
   "cell_type": "markdown",
   "metadata": {},
   "source": [
    "# 5.  5 data rumah dengan pajak bangunan per tahun tertinggi yang tidak mengizinkan membawa hewan peliharaan."
   ]
  },
  {
   "cell_type": "code",
   "execution_count": 14,
   "metadata": {},
   "outputs": [
    {
     "name": "stdout",
     "output_type": "stream",
     "text": [
      "                city  area  rooms  bathroom  parking_spaces  floor     animal  \\\n",
      "5114       Sao Paulo    42      1         2               1      6  not acept   \n",
      "4105       Sao Paulo   300      4         5               5      6  not acept   \n",
      "5737  Rio de Janeiro   170      3         1               1     10  not acept   \n",
      "3063       Sao Paulo   500      4         7               6      5  not acept   \n",
      "832        Sao Paulo   130      3         2               2     15  not acept   \n",
      "\n",
      "          furniture  homeowner_tax  rent_amount  property_tax  fire_insurance  \\\n",
      "5114  not furnished            690         2500        313700              32   \n",
      "4105  not furnished           3500         1990         10830              26   \n",
      "5737  not furnished           2888         5000          5404              65   \n",
      "3063  not furnished           5400         5000          4000              64   \n",
      "832   not furnished           1400         6200          4000              79   \n",
      "\n",
      "       total  \n",
      "5114  316900  \n",
      "4105   16350  \n",
      "5737   13360  \n",
      "3063   14460  \n",
      "832    11680  \n"
     ]
    }
   ],
   "source": [
    "syarat = (data.loc[(data[\"animal\"] == \"not acept\")])\n",
    "print(syarat.sort_values([\"property_tax\"], ascending=[0]).head(5))"
   ]
  }
 ],
 "metadata": {
  "kernelspec": {
   "display_name": "Python 3",
   "language": "python",
   "name": "python3"
  },
  "language_info": {
   "codemirror_mode": {
    "name": "ipython",
    "version": 3
   },
   "file_extension": ".py",
   "mimetype": "text/x-python",
   "name": "python",
   "nbconvert_exporter": "python",
   "pygments_lexer": "ipython3",
   "version": "3.12.0"
  }
 },
 "nbformat": 4,
 "nbformat_minor": 2
}
