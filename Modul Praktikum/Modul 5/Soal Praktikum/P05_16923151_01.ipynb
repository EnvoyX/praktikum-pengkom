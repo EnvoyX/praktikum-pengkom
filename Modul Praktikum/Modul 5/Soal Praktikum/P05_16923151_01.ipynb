{
 "cells": [
  {
   "cell_type": "code",
   "execution_count": 1,
   "metadata": {},
   "outputs": [],
   "source": [
    "#NIM/Nama : 16923151/Muhamad Hanif Hafizhan\n",
    "#Tanggal : 13 November 2023\n",
    "#Deskripsi : Problem 1"
   ]
  },
  {
   "cell_type": "code",
   "execution_count": 2,
   "metadata": {},
   "outputs": [],
   "source": [
    "import pandas as pd\n",
    "\n",
    "data = pd.read_csv(\"P05-02.csv\")"
   ]
  },
  {
   "cell_type": "markdown",
   "metadata": {},
   "source": [
    "# 1. Banyaknya data masing-masing kota tempat rumah berada"
   ]
  },
  {
   "cell_type": "code",
   "execution_count": 3,
   "metadata": {},
   "outputs": [
    {
     "name": "stdout",
     "output_type": "stream",
     "text": [
      "city\n",
      "Sao Paulo         4273\n",
      "Rio de Janeiro    1394\n",
      "Porto Alegre       999\n",
      "Belo Horizonte     916\n",
      "Campinas           649\n",
      "Name: count, dtype: int64\n"
     ]
    }
   ],
   "source": [
    "print(data[\"city\"].value_counts())"
   ]
  },
  {
   "cell_type": "markdown",
   "metadata": {},
   "source": [
    "# 2. Rata-Rata biaya ansuransi kebakaran per tahun."
   ]
  },
  {
   "cell_type": "code",
   "execution_count": 4,
   "metadata": {},
   "outputs": [
    {
     "data": {
      "text/plain": [
       "46.45535171911068"
      ]
     },
     "execution_count": 4,
     "metadata": {},
     "output_type": "execute_result"
    }
   ],
   "source": [
    "data[\"fire_insurance\"].mean()"
   ]
  },
  {
   "cell_type": "markdown",
   "metadata": {},
   "source": [
    "# 3. 5 rumah dengan luas tanah terbesar"
   ]
  },
  {
   "cell_type": "code",
   "execution_count": 5,
   "metadata": {},
   "outputs": [
    {
     "name": "stdout",
     "output_type": "stream",
     "text": [
      "                city   area  rooms  bathroom  parking_spaces  floor animal  \\\n",
      "1810  Belo Horizonte  46335      4         8               5     11  acept   \n",
      "4567       Sao Paulo  24606      5         4               4     12  acept   \n",
      "7114        Campinas  12732      3         2               0      3  acept   \n",
      "6757  Belo Horizonte   2000      3         3               2      2  acept   \n",
      "930        Sao Paulo   1000      4         7               4     10  acept   \n",
      "\n",
      "          furniture  homeowner_tax  rent_amount  property_tax  fire_insurance  \\\n",
      "1810      furnished            960         8500           646             114   \n",
      "4567  not furnished           2254         8100          7859             103   \n",
      "7114  not furnished            700         1600            96              21   \n",
      "6757      furnished           3000         5000           200              67   \n",
      "930       furnished           6000        15000          4900             191   \n",
      "\n",
      "      total  \n",
      "1810  10220  \n",
      "4567  18320  \n",
      "7114   2417  \n",
      "6757   8267  \n",
      "930   26090  \n"
     ]
    }
   ],
   "source": [
    "print(data.sort_values([\"area\"], ascending=[0]).head(5))"
   ]
  },
  {
   "cell_type": "markdown",
   "metadata": {},
   "source": [
    "# 4. Rumah yang sudah dilengkapi furnitur"
   ]
  },
  {
   "cell_type": "code",
   "execution_count": 6,
   "metadata": {},
   "outputs": [
    {
     "name": "stdout",
     "output_type": "stream",
     "text": [
      "                city  area  rooms  bathroom  parking_spaces  floor     animal  \\\n",
      "0          Sao Paulo    70      2         1               1      7      acept   \n",
      "7          Sao Paulo   152      2         2               1      3      acept   \n",
      "8     Rio de Janeiro    35      1         1               0      2      acept   \n",
      "9          Sao Paulo    26      1         1               0      2      acept   \n",
      "12         Sao Paulo    55      1         1               1      2      acept   \n",
      "...              ...   ...    ...       ...             ...    ...        ...   \n",
      "8222    Porto Alegre   160      3         2               3      4      acept   \n",
      "8226       Sao Paulo   150      3         3               2      8  not acept   \n",
      "8227    Porto Alegre    63      2         1               1      5  not acept   \n",
      "8229  Rio de Janeiro    70      3         3               0      8  not acept   \n",
      "8230  Rio de Janeiro   120      2         2               2      8      acept   \n",
      "\n",
      "      furniture  homeowner_tax  rent_amount  property_tax  fire_insurance  \\\n",
      "0     furnished           2065         3300           211              42   \n",
      "7     furnished           1000        15000           250             191   \n",
      "8     furnished            590         2300            35              30   \n",
      "9     furnished            470         2100           150              27   \n",
      "12    furnished            790         4200           224              54   \n",
      "...         ...            ...          ...           ...             ...   \n",
      "8222  furnished            850         3300           220              49   \n",
      "8226  furnished              0        13500             0             172   \n",
      "8227  furnished            402         1478            24              22   \n",
      "8229  furnished            980         6000           332              78   \n",
      "8230  furnished           1585        12000           279             155   \n",
      "\n",
      "      total  \n",
      "0      5618  \n",
      "7     16440  \n",
      "8      2955  \n",
      "9      2747  \n",
      "12     5268  \n",
      "...     ...  \n",
      "8222   4419  \n",
      "8226  13670  \n",
      "8227   1926  \n",
      "8229   7390  \n",
      "8230  14020  \n",
      "\n",
      "[2252 rows x 13 columns]\n"
     ]
    }
   ],
   "source": [
    "print(data.loc[(data[\"furniture\"] == \"furnished\")])"
   ]
  },
  {
   "cell_type": "markdown",
   "metadata": {},
   "source": [
    "# 5. Nilai Korelasi antara pajak tanah dan pajak bangunan per tahun"
   ]
  },
  {
   "cell_type": "code",
   "execution_count": 7,
   "metadata": {},
   "outputs": [
    {
     "data": {
      "text/plain": [
       "0.007914200947346692"
      ]
     },
     "execution_count": 7,
     "metadata": {},
     "output_type": "execute_result"
    }
   ],
   "source": [
    "data[\"homeowner_tax\"].corr(data[\"property_tax\"])"
   ]
  },
  {
   "cell_type": "markdown",
   "metadata": {},
   "source": [
    "Berdasarkan hasil data korelasi antara pajak tanah dengan pajak bangunan per tahun, dapat diketahui bahwa nilai korelasinya mendekati  1, maka kedua nilai tersebut relatif berbanding lurus"
   ]
  }
 ],
 "metadata": {
  "kernelspec": {
   "display_name": "Python 3",
   "language": "python",
   "name": "python3"
  },
  "language_info": {
   "codemirror_mode": {
    "name": "ipython",
    "version": 3
   },
   "file_extension": ".py",
   "mimetype": "text/x-python",
   "name": "python",
   "nbconvert_exporter": "python",
   "pygments_lexer": "ipython3",
   "version": "3.12.0"
  }
 },
 "nbformat": 4,
 "nbformat_minor": 2
}
