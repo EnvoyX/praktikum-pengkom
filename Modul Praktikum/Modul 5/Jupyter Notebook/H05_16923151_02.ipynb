{
 "cells": [
  {
   "cell_type": "markdown",
   "metadata": {},
   "source": [
    "NIM/Nama : 16923151/Muhamad Hanif Hafizhan\n",
    "Tanggal : 7 November 2023\n",
    "Deksripsi : Problem 2\n",
    "\n",
    "Kamus\n",
    "data = H05.csv\n",
    "pd = pandas\n",
    "\n",
    "Algortima"
   ]
  },
  {
   "cell_type": "code",
   "execution_count": 1,
   "metadata": {},
   "outputs": [],
   "source": [
    "import pandas as pd\n",
    "df = pd.read_csv(\"H05.csv\")"
   ]
  },
  {
   "cell_type": "markdown",
   "metadata": {},
   "source": [
    "# Nilai matematika, fisika, dan kimia milik Tuan Ric\n"
   ]
  },
  {
   "cell_type": "code",
   "execution_count": 2,
   "metadata": {},
   "outputs": [
    {
     "name": "stdout",
     "output_type": "stream",
     "text": [
      "          nama fakultas  nilai_mat  nilai_kim  nilai_fis\n",
      "3513  Tuan Ric     STEI      96.78      62.23      30.53\n"
     ]
    }
   ],
   "source": [
    "\n",
    "print(df.loc[df[\"nama\"] == \"Tuan Ric\"]) "
   ]
  },
  {
   "cell_type": "markdown",
   "metadata": {},
   "source": [
    "# Mahasiswa dengan nilai fisika tertinggi"
   ]
  },
  {
   "cell_type": "code",
   "execution_count": 3,
   "metadata": {},
   "outputs": [
    {
     "name": "stdout",
     "output_type": "stream",
     "text": [
      "                         nama fakultas  nilai_mat  nilai_kim  nilai_fis\n",
      "1936  Yuniar Fazriani Rusmana     FITB      53.61      67.19      92.57\n"
     ]
    }
   ],
   "source": [
    "fmax = df[\"nilai_fis\"].idxmax()\n",
    "print(df[fmax:fmax + 1])"
   ]
  },
  {
   "cell_type": "markdown",
   "metadata": {},
   "source": [
    "# 10 Mahasiswa dengan nilai kimia tertinggi"
   ]
  },
  {
   "cell_type": "code",
   "execution_count": 4,
   "metadata": {},
   "outputs": [
    {
     "name": "stdout",
     "output_type": "stream",
     "text": [
      "                          nama fakultas  nilai_mat  nilai_kim  nilai_fis\n",
      "2554      Faathir Reza Avicena     FTSL      57.12      81.50      78.68\n",
      "2779      Dinda A A Z Mundakir     STEI      41.18      81.34      82.60\n",
      "3544        Tammya Ayu Purnomo    SITHS      74.49      81.20      78.58\n",
      "4934    Alyssa Nadhira Windari     FTMD      78.38      78.83      78.68\n",
      "1137          Izni Nur Ibrahim     STEI      56.70      78.46      84.34\n",
      "2262      Rinaldi Oky Setiawan     STEI      71.22      77.44      83.66\n",
      "4070      Ias Azhari Rezkyarno    FMIPA      62.85      76.90      81.52\n",
      "2945           Klara Petra T T     FTSL      73.39      76.61      78.12\n",
      "1788  Naudy Germanimo Laksmana     FTMD      62.29      76.38      76.15\n",
      "1310       Mardliyahtur Rohmah     STEI      63.15      76.36      74.06\n"
     ]
    }
   ],
   "source": [
    "new = df.sort_values([\"nilai_kim\"], ascending=[0])\n",
    "\n",
    "print(new.sort_values([\"nilai_kim\"], ascending=[0]).head(10))"
   ]
  },
  {
   "cell_type": "markdown",
   "metadata": {},
   "source": [
    "# Banyaknya nilai matematika di bawah 50"
   ]
  },
  {
   "cell_type": "code",
   "execution_count": 5,
   "metadata": {},
   "outputs": [
    {
     "name": "stdout",
     "output_type": "stream",
     "text": [
      "329\n"
     ]
    }
   ],
   "source": [
    "print(len(df.loc[(df[\"nilai_mat\"] < 50)]))\n"
   ]
  },
  {
   "cell_type": "markdown",
   "metadata": {},
   "source": [
    "# Banyaknya mahasiswa FMIPA"
   ]
  },
  {
   "cell_type": "code",
   "execution_count": 6,
   "metadata": {},
   "outputs": [
    {
     "name": "stdout",
     "output_type": "stream",
     "text": [
      "627\n"
     ]
    }
   ],
   "source": [
    "print(len(df.loc[df[\"fakultas\"] == \"FMIPA\"]))"
   ]
  }
 ],
 "metadata": {
  "kernelspec": {
   "display_name": "Python 3",
   "language": "python",
   "name": "python3"
  },
  "language_info": {
   "codemirror_mode": {
    "name": "ipython",
    "version": 3
   },
   "file_extension": ".py",
   "mimetype": "text/x-python",
   "name": "python",
   "nbconvert_exporter": "python",
   "pygments_lexer": "ipython3",
   "version": "3.12.0"
  }
 },
 "nbformat": 4,
 "nbformat_minor": 2
}
