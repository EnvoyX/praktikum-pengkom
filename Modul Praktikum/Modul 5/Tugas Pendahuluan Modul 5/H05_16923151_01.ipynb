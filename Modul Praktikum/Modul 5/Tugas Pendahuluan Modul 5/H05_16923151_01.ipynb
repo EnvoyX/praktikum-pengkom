{
 "cells": [
  {
   "cell_type": "code",
   "execution_count": 1,
   "metadata": {},
   "outputs": [],
   "source": [
    "# NIM/Nama : 16923151/Muhamad Hanif Hafizhan\n",
    "# Tanggal : 7 November 2023\n",
    "# Deksripsi : Problem 1\n",
    "\n",
    "# Kamus\n",
    "# data = H05.csv\n",
    "# pd = pandas\n",
    "\n",
    "# Algortima\n",
    "\n",
    "import pandas as pd\n",
    "data = pd.read_csv(\"H05.csv\")"
   ]
  },
  {
   "cell_type": "markdown",
   "metadata": {},
   "source": [
    "# Mencari Banyaknya Data\n"
   ]
  },
  {
   "cell_type": "code",
   "execution_count": 2,
   "metadata": {},
   "outputs": [
    {
     "name": "stdout",
     "output_type": "stream",
     "text": [
      "5135\n"
     ]
    }
   ],
   "source": [
    "print(len(data))"
   ]
  },
  {
   "cell_type": "markdown",
   "metadata": {},
   "source": [
    "# Mencari 10 data pertama"
   ]
  },
  {
   "cell_type": "code",
   "execution_count": 3,
   "metadata": {},
   "outputs": [
    {
     "name": "stdout",
     "output_type": "stream",
     "text": [
      "                             nama fakultas  nilai_mat  nilai_kim  nilai_fis\n",
      "0            Farhan Fathur Rahman    FMIPA      57.21      34.14      38.93\n",
      "1                  Steven Margono    FMIPA      67.43      51.50      57.20\n",
      "2                    Ryan Sentosa    SAPPK      90.62      37.38      40.73\n",
      "3            Muhajah Babny Muslim    FMIPA      72.31      38.80      44.79\n",
      "4                Alvin Natawiguna     FTSL      65.45      57.67      56.39\n",
      "5                   Sasti Safitri     FTSL      60.58      41.91      51.55\n",
      "6             Dani Yulianto Putra     FTSL      51.67      35.05      48.69\n",
      "7  Nabila Febitsukarizky Bunyamin     FTTM      71.66      67.61      69.75\n",
      "8             Ratna Siti Khodijah      FTI      73.06      59.16      59.48\n",
      "9                    Gita Partiwi     FTSL      69.57      38.84      48.17\n"
     ]
    }
   ],
   "source": [
    "print(data[:10])"
   ]
  },
  {
   "cell_type": "markdown",
   "metadata": {},
   "source": [
    "# Mencari Data ke-50 sampai 60"
   ]
  },
  {
   "cell_type": "code",
   "execution_count": 4,
   "metadata": {},
   "outputs": [
    {
     "name": "stdout",
     "output_type": "stream",
     "text": [
      "                        nama fakultas  nilai_mat  nilai_kim  nilai_fis\n",
      "49      Alief Rizky Ramadhan    SITHS      84.59      42.44      40.48\n",
      "50      Arief Syakur Sutedjo     FTTM      84.40      61.21      73.91\n",
      "51         Fayi Raihan Saleh    FMIPA      60.62      32.57      42.34\n",
      "52          Erna Kristiawati      FTI      67.48      46.78      52.30\n",
      "53                    Albert    SAPPK      70.27      50.10      54.01\n",
      "54  M Jazztyan Indra Pradana     STEI      53.40      43.06      60.30\n",
      "55      Moch Ginanjar Busiri    FMIPA      74.29      38.44      49.15\n",
      "56              Aisya Tamara     FITB      71.49      35.86      37.41\n",
      "57        Tyas Arum Widayati    SAPPK      68.57      37.02      53.25\n",
      "58                Arif Saleh      FTI     100.00      59.79      55.33\n",
      "59     Windy Diwita Nisaekti      FTI      67.15      57.72      54.24\n"
     ]
    }
   ],
   "source": [
    "print(data[49:60])"
   ]
  },
  {
   "cell_type": "markdown",
   "metadata": {},
   "source": [
    "# Banyaknya mahasiswa tiap fakultas"
   ]
  },
  {
   "cell_type": "code",
   "execution_count": 5,
   "metadata": {},
   "outputs": [
    {
     "name": "stdout",
     "output_type": "stream",
     "text": [
      "fakultas\n",
      "FTI      834\n",
      "STEI     777\n",
      "FTSL     660\n",
      "FMIPA    627\n",
      "FTTM     579\n",
      "FTMD     480\n",
      "FITB     403\n",
      "SAPPK    315\n",
      "SITHR    282\n",
      "SITHS    178\n",
      "Name: count, dtype: int64\n"
     ]
    }
   ],
   "source": [
    "print(data[\"fakultas\"].value_counts())"
   ]
  },
  {
   "cell_type": "markdown",
   "metadata": {},
   "source": [
    "# Nilai Korelasi antara nilai fisika dan kimia"
   ]
  },
  {
   "cell_type": "code",
   "execution_count": 6,
   "metadata": {},
   "outputs": [
    {
     "data": {
      "text/plain": [
       "0.7988187423880274"
      ]
     },
     "execution_count": 6,
     "metadata": {},
     "output_type": "execute_result"
    }
   ],
   "source": [
    "data[\"nilai_fis\"].corr(data[\"nilai_kim\"])"
   ]
  },
  {
   "cell_type": "markdown",
   "metadata": {},
   "source": [
    "Berdasarkan nilai korelasi antara nilai fisika dan kimia, bahwa nilai korelasinya sekitar 0.79 yaitu mendekati nilai 1, maka kedua nilai pelajaran relatif berbanding lurus."
   ]
  }
 ],
 "metadata": {
  "kernelspec": {
   "display_name": "Python 3",
   "language": "python",
   "name": "python3"
  },
  "language_info": {
   "codemirror_mode": {
    "name": "ipython",
    "version": 3
   },
   "file_extension": ".py",
   "mimetype": "text/x-python",
   "name": "python",
   "nbconvert_exporter": "python",
   "pygments_lexer": "ipython3",
   "version": "3.12.0"
  }
 },
 "nbformat": 4,
 "nbformat_minor": 2
}
